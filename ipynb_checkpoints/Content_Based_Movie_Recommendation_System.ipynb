{
  "nbformat": 4,
  "nbformat_minor": 0,
  "metadata": {
    "colab": {
      "name": "Content Based Movie Recommendation System.ipynb",
      "provenance": [],
      "collapsed_sections": []
    },
    "kernelspec": {
      "name": "python3",
      "display_name": "Python 3"
    },
    "accelerator": "GPU"
  },
  "cells": [
    {
      "cell_type": "code",
      "metadata": {
        "id": "8-nPhIMDT7vo",
        "colab_type": "code",
        "colab": {}
      },
      "source": [
        "import pandas as pd\n",
        "import numpy as np\n",
        "import matplotlib.pyplot as plt"
      ],
      "execution_count": 1,
      "outputs": []
    },
    {
      "cell_type": "code",
      "metadata": {
        "id": "rZrD6biFUjP6",
        "colab_type": "code",
        "colab": {}
      },
      "source": [
        "data = pd.read_csv('finalcut_movies.csv')"
      ],
      "execution_count": 3,
      "outputs": []
    },
    {
      "cell_type": "code",
      "metadata": {
        "id": "reneuSliuAtE",
        "colab_type": "code",
        "colab": {
          "base_uri": "https://localhost:8080/",
          "height": 34
        },
        "outputId": "1e6af83a-634d-4458-ca45-edcadbe99b51"
      },
      "source": [
        "data.shape"
      ],
      "execution_count": 4,
      "outputs": [
        {
          "output_type": "execute_result",
          "data": {
            "text/plain": [
              "(47463, 14)"
            ]
          },
          "metadata": {
            "tags": []
          },
          "execution_count": 4
        }
      ]
    },
    {
      "cell_type": "code",
      "metadata": {
        "id": "5EKkTyxhv75N",
        "colab_type": "code",
        "colab": {
          "base_uri": "https://localhost:8080/",
          "height": 306
        },
        "outputId": "343c0bf4-0ef2-478c-fa1f-744b91d65970"
      },
      "source": [
        "data.head()"
      ],
      "execution_count": 5,
      "outputs": [
        {
          "output_type": "execute_result",
          "data": {
            "text/html": [
              "<div>\n",
              "<style scoped>\n",
              "    .dataframe tbody tr th:only-of-type {\n",
              "        vertical-align: middle;\n",
              "    }\n",
              "\n",
              "    .dataframe tbody tr th {\n",
              "        vertical-align: top;\n",
              "    }\n",
              "\n",
              "    .dataframe thead th {\n",
              "        text-align: right;\n",
              "    }\n",
              "</style>\n",
              "<table border=\"1\" class=\"dataframe\">\n",
              "  <thead>\n",
              "    <tr style=\"text-align: right;\">\n",
              "      <th></th>\n",
              "      <th>tmdbId</th>\n",
              "      <th>Title</th>\n",
              "      <th>Year</th>\n",
              "      <th>Genres</th>\n",
              "      <th>Language</th>\n",
              "      <th>Runtime</th>\n",
              "      <th>Vote_count</th>\n",
              "      <th>Vote_avg</th>\n",
              "      <th>Director</th>\n",
              "      <th>Keywords</th>\n",
              "      <th>actor1</th>\n",
              "      <th>actor2</th>\n",
              "      <th>actor3</th>\n",
              "      <th>actor4</th>\n",
              "    </tr>\n",
              "  </thead>\n",
              "  <tbody>\n",
              "    <tr>\n",
              "      <th>0</th>\n",
              "      <td>862</td>\n",
              "      <td>Toy Story</td>\n",
              "      <td>1995</td>\n",
              "      <td>Animation Comedy Family</td>\n",
              "      <td>English</td>\n",
              "      <td>81</td>\n",
              "      <td>12628</td>\n",
              "      <td>7.9</td>\n",
              "      <td>John Lasseter</td>\n",
              "      <td>martialarts jealousy toy friendship bullying e...</td>\n",
              "      <td>Tom Hanks</td>\n",
              "      <td>Tim Allen</td>\n",
              "      <td>Don Rickles</td>\n",
              "      <td>Jim Varney</td>\n",
              "    </tr>\n",
              "    <tr>\n",
              "      <th>1</th>\n",
              "      <td>8844</td>\n",
              "      <td>Jumanji</td>\n",
              "      <td>1995</td>\n",
              "      <td>Adventure Fantasy Family</td>\n",
              "      <td>English</td>\n",
              "      <td>104</td>\n",
              "      <td>7378</td>\n",
              "      <td>7.2</td>\n",
              "      <td>Joe Johnston</td>\n",
              "      <td>giantinsect boardgame jungle disappearance rec...</td>\n",
              "      <td>Robin Williams</td>\n",
              "      <td>Jonathan Hyde</td>\n",
              "      <td>Kirsten Dunst</td>\n",
              "      <td>Bradley Pierce</td>\n",
              "    </tr>\n",
              "    <tr>\n",
              "      <th>2</th>\n",
              "      <td>15602</td>\n",
              "      <td>Grumpier Old Men</td>\n",
              "      <td>1995</td>\n",
              "      <td>Romance Comedy</td>\n",
              "      <td>English</td>\n",
              "      <td>101</td>\n",
              "      <td>203</td>\n",
              "      <td>6.6</td>\n",
              "      <td>Howard Deutch</td>\n",
              "      <td>fishing oldman bestfriend duringcreditsstinger</td>\n",
              "      <td>Walter Matthau</td>\n",
              "      <td>Jack Lemmon</td>\n",
              "      <td>Ann-Margret</td>\n",
              "      <td>Sophia Loren</td>\n",
              "    </tr>\n",
              "    <tr>\n",
              "      <th>3</th>\n",
              "      <td>31357</td>\n",
              "      <td>Waiting to Exhale</td>\n",
              "      <td>1995</td>\n",
              "      <td>Comedy Drama Romance</td>\n",
              "      <td>English</td>\n",
              "      <td>127</td>\n",
              "      <td>75</td>\n",
              "      <td>6.2</td>\n",
              "      <td>Forest Whitaker</td>\n",
              "      <td>basedonnovelorbook interracialrelationship sin...</td>\n",
              "      <td>Whitney Houston</td>\n",
              "      <td>Angela Bassett</td>\n",
              "      <td>Loretta Devine</td>\n",
              "      <td>Lela Rochon</td>\n",
              "    </tr>\n",
              "    <tr>\n",
              "      <th>4</th>\n",
              "      <td>11862</td>\n",
              "      <td>Father of the Bride Part II</td>\n",
              "      <td>1995</td>\n",
              "      <td>Comedy</td>\n",
              "      <td>English</td>\n",
              "      <td>106</td>\n",
              "      <td>416</td>\n",
              "      <td>6.2</td>\n",
              "      <td>Charles Shyer</td>\n",
              "      <td>parentchildrelationship baby midlifecrisis con...</td>\n",
              "      <td>Steve Martin</td>\n",
              "      <td>Diane Keaton</td>\n",
              "      <td>Martin Short</td>\n",
              "      <td>Kimberly Williams-Paisley</td>\n",
              "    </tr>\n",
              "  </tbody>\n",
              "</table>\n",
              "</div>"
            ],
            "text/plain": [
              "   tmdbId  ...                      actor4\n",
              "0     862  ...                  Jim Varney\n",
              "1    8844  ...              Bradley Pierce\n",
              "2   15602  ...                Sophia Loren\n",
              "3   31357  ...                 Lela Rochon\n",
              "4   11862  ...   Kimberly Williams-Paisley\n",
              "\n",
              "[5 rows x 14 columns]"
            ]
          },
          "metadata": {
            "tags": []
          },
          "execution_count": 5
        }
      ]
    },
    {
      "cell_type": "code",
      "metadata": {
        "id": "nf1DUfY60jGV",
        "colab_type": "code",
        "colab": {
          "base_uri": "https://localhost:8080/",
          "height": 1000
        },
        "outputId": "7253604b-3f85-4995-b6dc-391e0e0e1483"
      },
      "source": [
        "data['Year'].value_counts(dropna=False).sort_index().plot(kind= 'barh', figsize = (15, 25))"
      ],
      "execution_count": 6,
      "outputs": [
        {
          "output_type": "execute_result",
          "data": {
            "text/plain": [
              "<matplotlib.axes._subplots.AxesSubplot at 0x7f9af0160a90>"
            ]
          },
          "metadata": {
            "tags": []
          },
          "execution_count": 6
        },
        {
          "output_type": "display_data",
          "data": {
            "image/png": "[encoded data removed]",
            "text/plain": [
              "<Figure size 1080x1800 with 1 Axes>"
            ]
          },
          "metadata": {
            "tags": [],
            "needs_background": "light"
          }
        }
      ]
    },
    {
      "cell_type": "code",
      "metadata": {
        "id": "by5zKPTL8IPi",
        "colab_type": "code",
        "colab": {
          "base_uri": "https://localhost:8080/",
          "height": 34
        },
        "outputId": "c9786aaa-8068-432b-f4b7-47432e1d66d3"
      },
      "source": [
        "#Calculating the mean of vote avg\n",
        "C = data['Vote_avg'].mean()\n",
        "C"
      ],
      "execution_count": 7,
      "outputs": [
        {
          "output_type": "execute_result",
          "data": {
            "text/plain": [
              "6.061344626340259"
            ]
          },
          "metadata": {
            "tags": []
          },
          "execution_count": 7
        }
      ]
    },
    {
      "cell_type": "code",
      "metadata": {
        "id": "VNL_Cx_wIv4M",
        "colab_type": "code",
        "colab": {
          "base_uri": "https://localhost:8080/",
          "height": 34
        },
        "outputId": "bccfefd7-63bd-4a7b-ac93-0a2ed0182e58"
      },
      "source": [
        "# Calculate the minimum number of votes to be considered\n",
        "m = data['Vote_count'].quantile(0.75)\n",
        "m"
      ],
      "execution_count": 8,
      "outputs": [
        {
          "output_type": "execute_result",
          "data": {
            "text/plain": [
              "78.0"
            ]
          },
          "metadata": {
            "tags": []
          },
          "execution_count": 8
        }
      ]
    },
    {
      "cell_type": "code",
      "metadata": {
        "id": "fXpv2zVaJK-3",
        "colab_type": "code",
        "colab": {
          "base_uri": "https://localhost:8080/",
          "height": 34
        },
        "outputId": "90b6558c-bb20-41ad-b589-1b6bec37f6ad"
      },
      "source": [
        "# Filtering all the movies that have vote_count more than 'm'\n",
        "quali = data.copy().loc[data['Vote_count'] >= m]\n",
        "quali.shape"
      ],
      "execution_count": 60,
      "outputs": [
        {
          "output_type": "execute_result",
          "data": {
            "text/plain": [
              "(11869, 14)"
            ]
          },
          "metadata": {
            "tags": []
          },
          "execution_count": 60
        }
      ]
    },
    {
      "cell_type": "code",
      "metadata": {
        "id": "opgIF8mBPe_K",
        "colab_type": "code",
        "colab": {}
      },
      "source": [
        "#quali['Vote_avg'] = quali['Vote_avg'].astype(int)"
      ],
      "execution_count": 61,
      "outputs": []
    },
    {
      "cell_type": "code",
      "metadata": {
        "id": "OUyVpmvaKhl1",
        "colab_type": "code",
        "colab": {}
      },
      "source": [
        "# Calculating the weighted rating of each movie\n",
        "def weighted_rate(v, R, m=m, C=C):\n",
        "  ans = (v/(v+m) * R)+(m/(v+m) * C)\n",
        "  return ans"
      ],
      "execution_count": 62,
      "outputs": []
    },
    {
      "cell_type": "code",
      "metadata": {
        "id": "r9XRU_f9U4jS",
        "colab_type": "code",
        "colab": {}
      },
      "source": [
        "quali['Score'] = quali.apply(lambda row : weighted_rate(row['Vote_count'], row['Vote_avg']), axis = 1) "
      ],
      "execution_count": 63,
      "outputs": []
    },
    {
      "cell_type": "code",
      "metadata": {
        "id": "LNVvz2cnFV6G",
        "colab_type": "code",
        "colab": {}
      },
      "source": [
        "quali = quali.sort_values('Score', ascending=False)"
      ],
      "execution_count": 64,
      "outputs": []
    },
    {
      "cell_type": "code",
      "metadata": {
        "id": "Ga985Al8TH7D",
        "colab_type": "code",
        "colab": {
          "base_uri": "https://localhost:8080/",
          "height": 374
        },
        "outputId": "9be9df65-af72-416e-9c33-23a2b3a4210f"
      },
      "source": [
        "quali.head()"
      ],
      "execution_count": 65,
      "outputs": [
        {
          "output_type": "execute_result",
          "data": {
            "text/html": [
              "<div>\n",
              "<style scoped>\n",
              "    .dataframe tbody tr th:only-of-type {\n",
              "        vertical-align: middle;\n",
              "    }\n",
              "\n",
              "    .dataframe tbody tr th {\n",
              "        vertical-align: top;\n",
              "    }\n",
              "\n",
              "    .dataframe thead th {\n",
              "        text-align: right;\n",
              "    }\n",
              "</style>\n",
              "<table border=\"1\" class=\"dataframe\">\n",
              "  <thead>\n",
              "    <tr style=\"text-align: right;\">\n",
              "      <th></th>\n",
              "      <th>tmdbId</th>\n",
              "      <th>Title</th>\n",
              "      <th>Year</th>\n",
              "      <th>Genres</th>\n",
              "      <th>Language</th>\n",
              "      <th>Runtime</th>\n",
              "      <th>Vote_count</th>\n",
              "      <th>Vote_avg</th>\n",
              "      <th>Director</th>\n",
              "      <th>Keywords</th>\n",
              "      <th>actor1</th>\n",
              "      <th>actor2</th>\n",
              "      <th>actor3</th>\n",
              "      <th>actor4</th>\n",
              "      <th>Score</th>\n",
              "    </tr>\n",
              "  </thead>\n",
              "  <tbody>\n",
              "    <tr>\n",
              "      <th>304</th>\n",
              "      <td>278</td>\n",
              "      <td>The Shawshank Redemption</td>\n",
              "      <td>1994</td>\n",
              "      <td>Drama Crime</td>\n",
              "      <td>English</td>\n",
              "      <td>142</td>\n",
              "      <td>16681</td>\n",
              "      <td>8.7</td>\n",
              "      <td>Frank Darabont</td>\n",
              "      <td>prison corruption policebrutality prisoncell d...</td>\n",
              "      <td>Tim Robbins</td>\n",
              "      <td>Morgan Freeman</td>\n",
              "      <td>Bob Gunton</td>\n",
              "      <td>Clancy Brown</td>\n",
              "      <td>8.687719</td>\n",
              "    </tr>\n",
              "    <tr>\n",
              "      <th>777</th>\n",
              "      <td>238</td>\n",
              "      <td>The Godfather</td>\n",
              "      <td>1972</td>\n",
              "      <td>Drama Crime</td>\n",
              "      <td>English</td>\n",
              "      <td>175</td>\n",
              "      <td>12597</td>\n",
              "      <td>8.7</td>\n",
              "      <td>Francis Ford Coppola</td>\n",
              "      <td>italy lossoflovedone loveatfirstsight italiana...</td>\n",
              "      <td>Marlon Brando</td>\n",
              "      <td>Al Pacino</td>\n",
              "      <td>James Caan</td>\n",
              "      <td>Richard S. Castellano</td>\n",
              "      <td>8.683762</td>\n",
              "    </tr>\n",
              "    <tr>\n",
              "      <th>9779</th>\n",
              "      <td>19404</td>\n",
              "      <td>Dilwale Dulhania Le Jayenge</td>\n",
              "      <td>1995</td>\n",
              "      <td>Comedy Drama Romance</td>\n",
              "      <td>Hindi</td>\n",
              "      <td>190</td>\n",
              "      <td>2318</td>\n",
              "      <td>8.7</td>\n",
              "      <td>Aditya Chopra</td>\n",
              "      <td>NaN</td>\n",
              "      <td>Shah Rukh Khan</td>\n",
              "      <td>Kajol</td>\n",
              "      <td>Amrish Puri</td>\n",
              "      <td>Anupam Kher</td>\n",
              "      <td>8.614101</td>\n",
              "    </tr>\n",
              "    <tr>\n",
              "      <th>502</th>\n",
              "      <td>424</td>\n",
              "      <td>Schindlers List</td>\n",
              "      <td>1993</td>\n",
              "      <td>Drama History War</td>\n",
              "      <td>English</td>\n",
              "      <td>195</td>\n",
              "      <td>10019</td>\n",
              "      <td>8.6</td>\n",
              "      <td>Steven Spielberg</td>\n",
              "      <td>basedonnovelorbook factory concentrationcamp h...</td>\n",
              "      <td>Liam Neeson</td>\n",
              "      <td>Ben Kingsley</td>\n",
              "      <td>Ralph Fiennes</td>\n",
              "      <td>Caroline Goodall</td>\n",
              "      <td>8.580389</td>\n",
              "    </tr>\n",
              "    <tr>\n",
              "      <th>1092</th>\n",
              "      <td>240</td>\n",
              "      <td>The Godfather: Part II</td>\n",
              "      <td>1974</td>\n",
              "      <td>Drama Crime</td>\n",
              "      <td>English</td>\n",
              "      <td>202</td>\n",
              "      <td>7461</td>\n",
              "      <td>8.6</td>\n",
              "      <td>Francis Ford Coppola</td>\n",
              "      <td>italy italianamerican cuba melancholy praise r...</td>\n",
              "      <td>Al Pacino</td>\n",
              "      <td>Robert Duvall</td>\n",
              "      <td>Diane Keaton</td>\n",
              "      <td>Robert De Niro</td>\n",
              "      <td>8.573735</td>\n",
              "    </tr>\n",
              "  </tbody>\n",
              "</table>\n",
              "</div>"
            ],
            "text/plain": [
              "      tmdbId                        Title  ...                  actor4     Score\n",
              "304      278     The Shawshank Redemption  ...            Clancy Brown  8.687719\n",
              "777      238                The Godfather  ...   Richard S. Castellano  8.683762\n",
              "9779   19404  Dilwale Dulhania Le Jayenge  ...             Anupam Kher  8.614101\n",
              "502      424              Schindlers List  ...        Caroline Goodall  8.580389\n",
              "1092     240       The Godfather: Part II  ...          Robert De Niro  8.573735\n",
              "\n",
              "[5 rows x 15 columns]"
            ]
          },
          "metadata": {
            "tags": []
          },
          "execution_count": 65
        }
      ]
    },
    {
      "cell_type": "code",
      "metadata": {
        "id": "49jIa-PPMiLD",
        "colab_type": "code",
        "colab": {
          "base_uri": "https://localhost:8080/",
          "height": 838
        },
        "outputId": "6286fbe6-b247-4fcb-ec33-3d4a525aa76d"
      },
      "source": [
        "(quali\n",
        " .query('Year == \"2017\"')\n",
        " .sort_values('Score', ascending=False).head(10))"
      ],
      "execution_count": 66,
      "outputs": [
        {
          "output_type": "execute_result",
          "data": {
            "text/html": [
              "<div>\n",
              "<style scoped>\n",
              "    .dataframe tbody tr th:only-of-type {\n",
              "        vertical-align: middle;\n",
              "    }\n",
              "\n",
              "    .dataframe tbody tr th {\n",
              "        vertical-align: top;\n",
              "    }\n",
              "\n",
              "    .dataframe thead th {\n",
              "        text-align: right;\n",
              "    }\n",
              "</style>\n",
              "<table border=\"1\" class=\"dataframe\">\n",
              "  <thead>\n",
              "    <tr style=\"text-align: right;\">\n",
              "      <th></th>\n",
              "      <th>tmdbId</th>\n",
              "      <th>Title</th>\n",
              "      <th>Year</th>\n",
              "      <th>Genres</th>\n",
              "      <th>Language</th>\n",
              "      <th>Runtime</th>\n",
              "      <th>Vote_count</th>\n",
              "      <th>Vote_avg</th>\n",
              "      <th>Director</th>\n",
              "      <th>Keywords</th>\n",
              "      <th>actor1</th>\n",
              "      <th>actor2</th>\n",
              "      <th>actor3</th>\n",
              "      <th>actor4</th>\n",
              "      <th>Score</th>\n",
              "    </tr>\n",
              "  </thead>\n",
              "  <tbody>\n",
              "    <tr>\n",
              "      <th>39476</th>\n",
              "      <td>398818</td>\n",
              "      <td>Call Me by Your Name</td>\n",
              "      <td>2017</td>\n",
              "      <td>Romance Drama</td>\n",
              "      <td>English</td>\n",
              "      <td>132</td>\n",
              "      <td>7477</td>\n",
              "      <td>8.3</td>\n",
              "      <td>Luca Guadagnino</td>\n",
              "      <td>italy upperclass basedonnovelorbook swimmingpo...</td>\n",
              "      <td>Armie Hammer</td>\n",
              "      <td>Timothée Chalamet</td>\n",
              "      <td>Michael Stuhlbarg</td>\n",
              "      <td>Amira Casar</td>\n",
              "      <td>8.276887</td>\n",
              "    </tr>\n",
              "    <tr>\n",
              "      <th>43902</th>\n",
              "      <td>432517</td>\n",
              "      <td>Sherlock: The Final Problem</td>\n",
              "      <td>2017</td>\n",
              "      <td>Drama Mystery Thriller</td>\n",
              "      <td>English</td>\n",
              "      <td>90</td>\n",
              "      <td>819</td>\n",
              "      <td>8.4</td>\n",
              "      <td>Benjamin Caron</td>\n",
              "      <td>tvepisode</td>\n",
              "      <td>Benedict Cumberbatch</td>\n",
              "      <td>Martin Freeman</td>\n",
              "      <td>Mark Gatiss</td>\n",
              "      <td>Sian Brooke</td>\n",
              "      <td>8.196639</td>\n",
              "    </tr>\n",
              "    <tr>\n",
              "      <th>42583</th>\n",
              "      <td>354912</td>\n",
              "      <td>Coco</td>\n",
              "      <td>2017</td>\n",
              "      <td>Animation Family Comedy Adventure Fantasy</td>\n",
              "      <td>English</td>\n",
              "      <td>105</td>\n",
              "      <td>11700</td>\n",
              "      <td>8.2</td>\n",
              "      <td>Lee Unkrich</td>\n",
              "      <td>mexico guitar musician skeleton music afterlif...</td>\n",
              "      <td>Anthony Gonzalez</td>\n",
              "      <td>Gael García Bernal</td>\n",
              "      <td>Benjamin Bratt</td>\n",
              "      <td>Alanna Ubach</td>\n",
              "      <td>8.185837</td>\n",
              "    </tr>\n",
              "    <tr>\n",
              "      <th>43341</th>\n",
              "      <td>406997</td>\n",
              "      <td>Wonder</td>\n",
              "      <td>2017</td>\n",
              "      <td>Drama Family</td>\n",
              "      <td>English</td>\n",
              "      <td>113</td>\n",
              "      <td>5240</td>\n",
              "      <td>8.2</td>\n",
              "      <td>Stephen Chbosky</td>\n",
              "      <td>exclusion bullying coneyisland prejudice schoo...</td>\n",
              "      <td>Jacob Tremblay</td>\n",
              "      <td>Owen Wilson</td>\n",
              "      <td>Julia Roberts</td>\n",
              "      <td>Danielle Rose Russell</td>\n",
              "      <td>8.168632</td>\n",
              "    </tr>\n",
              "    <tr>\n",
              "      <th>43012</th>\n",
              "      <td>339877</td>\n",
              "      <td>Loving Vincent</td>\n",
              "      <td>2017</td>\n",
              "      <td>Animation Drama Mystery</td>\n",
              "      <td>English</td>\n",
              "      <td>95</td>\n",
              "      <td>1593</td>\n",
              "      <td>8.2</td>\n",
              "      <td>Dorota Kobiela</td>\n",
              "      <td>painter artist letter investigation bullying s...</td>\n",
              "      <td>Douglas Booth</td>\n",
              "      <td>Eleanor Tomlinson</td>\n",
              "      <td>Robert Gulaczyk</td>\n",
              "      <td>Helen McCrory</td>\n",
              "      <td>8.100170</td>\n",
              "    </tr>\n",
              "    <tr>\n",
              "      <th>42525</th>\n",
              "      <td>359940</td>\n",
              "      <td>Three Billboards Outside Ebbing, Missouri</td>\n",
              "      <td>2017</td>\n",
              "      <td>Crime Drama</td>\n",
              "      <td>English</td>\n",
              "      <td>115</td>\n",
              "      <td>6841</td>\n",
              "      <td>8.1</td>\n",
              "      <td>Martin McDonagh</td>\n",
              "      <td>suicide rape smalltown missouri alcoholism mur...</td>\n",
              "      <td>Frances McDormand</td>\n",
              "      <td>Woody Harrelson</td>\n",
              "      <td>Sam Rockwell</td>\n",
              "      <td>John Hawkes</td>\n",
              "      <td>8.077018</td>\n",
              "    </tr>\n",
              "    <tr>\n",
              "      <th>43612</th>\n",
              "      <td>316029</td>\n",
              "      <td>The Greatest Showman</td>\n",
              "      <td>2017</td>\n",
              "      <td>Drama</td>\n",
              "      <td>English</td>\n",
              "      <td>105</td>\n",
              "      <td>6463</td>\n",
              "      <td>8.0</td>\n",
              "      <td>Michael Gracey</td>\n",
              "      <td>circus musical biography diversity basedonatru...</td>\n",
              "      <td>Hugh Jackman</td>\n",
              "      <td>Michelle Williams</td>\n",
              "      <td>Zac Efron</td>\n",
              "      <td>Zendaya</td>\n",
              "      <td>7.976882</td>\n",
              "    </tr>\n",
              "    <tr>\n",
              "      <th>40165</th>\n",
              "      <td>400928</td>\n",
              "      <td>Gifted</td>\n",
              "      <td>2017</td>\n",
              "      <td>Drama Family Comedy</td>\n",
              "      <td>English</td>\n",
              "      <td>101</td>\n",
              "      <td>3076</td>\n",
              "      <td>8.0</td>\n",
              "      <td>Marc Webb</td>\n",
              "      <td>cat intellectuallygifted childprodigy mathemat...</td>\n",
              "      <td>Chris Evans</td>\n",
              "      <td>Mckenna Grace</td>\n",
              "      <td>Lindsay Duncan</td>\n",
              "      <td>Jenny Slate</td>\n",
              "      <td>7.952056</td>\n",
              "    </tr>\n",
              "    <tr>\n",
              "      <th>43355</th>\n",
              "      <td>430424</td>\n",
              "      <td>See You Up There</td>\n",
              "      <td>2017</td>\n",
              "      <td>Drama Crime Comedy War</td>\n",
              "      <td>French</td>\n",
              "      <td>113</td>\n",
              "      <td>823</td>\n",
              "      <td>8.0</td>\n",
              "      <td>Albert Dupontel</td>\n",
              "      <td>paris france painter worldwari mask banker pos...</td>\n",
              "      <td>Nahuel Pérez Biscayart</td>\n",
              "      <td>Albert Dupontel</td>\n",
              "      <td>Laurent Lafitte</td>\n",
              "      <td>Niels Arestrup</td>\n",
              "      <td>7.832170</td>\n",
              "    </tr>\n",
              "    <tr>\n",
              "      <th>39379</th>\n",
              "      <td>263115</td>\n",
              "      <td>Logan</td>\n",
              "      <td>2017</td>\n",
              "      <td>Action Drama Science Fiction</td>\n",
              "      <td>English</td>\n",
              "      <td>137</td>\n",
              "      <td>14527</td>\n",
              "      <td>7.8</td>\n",
              "      <td>James Mangold</td>\n",
              "      <td>cyborg experiment self-destruction mutant futu...</td>\n",
              "      <td>Hugh Jackman</td>\n",
              "      <td>Patrick Stewart</td>\n",
              "      <td>Dafne Keen</td>\n",
              "      <td>Boyd Holbrook</td>\n",
              "      <td>7.790714</td>\n",
              "    </tr>\n",
              "  </tbody>\n",
              "</table>\n",
              "</div>"
            ],
            "text/plain": [
              "       tmdbId  ...     Score\n",
              "39476  398818  ...  8.276887\n",
              "43902  432517  ...  8.196639\n",
              "42583  354912  ...  8.185837\n",
              "43341  406997  ...  8.168632\n",
              "43012  339877  ...  8.100170\n",
              "42525  359940  ...  8.077018\n",
              "43612  316029  ...  7.976882\n",
              "40165  400928  ...  7.952056\n",
              "43355  430424  ...  7.832170\n",
              "39379  263115  ...  7.790714\n",
              "\n",
              "[10 rows x 15 columns]"
            ]
          },
          "metadata": {
            "tags": []
          },
          "execution_count": 66
        }
      ]
    },
    {
      "cell_type": "code",
      "metadata": {
        "id": "aygOcRMOo6sF",
        "colab_type": "code",
        "colab": {}
      },
      "source": [
        "conbas_df = quali[['Title','Genres','Director','actor1','actor2','actor3','actor4','Keywords']]"
      ],
      "execution_count": 67,
      "outputs": []
    },
    {
      "cell_type": "code",
      "metadata": {
        "id": "2CMsLrjjpdyw",
        "colab_type": "code",
        "colab": {
          "base_uri": "https://localhost:8080/",
          "height": 289
        },
        "outputId": "af11521b-bdbf-4f55-fa50-04b2b2fc406b"
      },
      "source": [
        "conbas_df.head()"
      ],
      "execution_count": 68,
      "outputs": [
        {
          "output_type": "execute_result",
          "data": {
            "text/html": [
              "<div>\n",
              "<style scoped>\n",
              "    .dataframe tbody tr th:only-of-type {\n",
              "        vertical-align: middle;\n",
              "    }\n",
              "\n",
              "    .dataframe tbody tr th {\n",
              "        vertical-align: top;\n",
              "    }\n",
              "\n",
              "    .dataframe thead th {\n",
              "        text-align: right;\n",
              "    }\n",
              "</style>\n",
              "<table border=\"1\" class=\"dataframe\">\n",
              "  <thead>\n",
              "    <tr style=\"text-align: right;\">\n",
              "      <th></th>\n",
              "      <th>Title</th>\n",
              "      <th>Genres</th>\n",
              "      <th>Director</th>\n",
              "      <th>actor1</th>\n",
              "      <th>actor2</th>\n",
              "      <th>actor3</th>\n",
              "      <th>actor4</th>\n",
              "      <th>Keywords</th>\n",
              "    </tr>\n",
              "  </thead>\n",
              "  <tbody>\n",
              "    <tr>\n",
              "      <th>304</th>\n",
              "      <td>The Shawshank Redemption</td>\n",
              "      <td>Drama Crime</td>\n",
              "      <td>Frank Darabont</td>\n",
              "      <td>Tim Robbins</td>\n",
              "      <td>Morgan Freeman</td>\n",
              "      <td>Bob Gunton</td>\n",
              "      <td>Clancy Brown</td>\n",
              "      <td>prison corruption policebrutality prisoncell d...</td>\n",
              "    </tr>\n",
              "    <tr>\n",
              "      <th>777</th>\n",
              "      <td>The Godfather</td>\n",
              "      <td>Drama Crime</td>\n",
              "      <td>Francis Ford Coppola</td>\n",
              "      <td>Marlon Brando</td>\n",
              "      <td>Al Pacino</td>\n",
              "      <td>James Caan</td>\n",
              "      <td>Richard S. Castellano</td>\n",
              "      <td>italy lossoflovedone loveatfirstsight italiana...</td>\n",
              "    </tr>\n",
              "    <tr>\n",
              "      <th>9779</th>\n",
              "      <td>Dilwale Dulhania Le Jayenge</td>\n",
              "      <td>Comedy Drama Romance</td>\n",
              "      <td>Aditya Chopra</td>\n",
              "      <td>Shah Rukh Khan</td>\n",
              "      <td>Kajol</td>\n",
              "      <td>Amrish Puri</td>\n",
              "      <td>Anupam Kher</td>\n",
              "      <td>NaN</td>\n",
              "    </tr>\n",
              "    <tr>\n",
              "      <th>502</th>\n",
              "      <td>Schindlers List</td>\n",
              "      <td>Drama History War</td>\n",
              "      <td>Steven Spielberg</td>\n",
              "      <td>Liam Neeson</td>\n",
              "      <td>Ben Kingsley</td>\n",
              "      <td>Ralph Fiennes</td>\n",
              "      <td>Caroline Goodall</td>\n",
              "      <td>basedonnovelorbook factory concentrationcamp h...</td>\n",
              "    </tr>\n",
              "    <tr>\n",
              "      <th>1092</th>\n",
              "      <td>The Godfather: Part II</td>\n",
              "      <td>Drama Crime</td>\n",
              "      <td>Francis Ford Coppola</td>\n",
              "      <td>Al Pacino</td>\n",
              "      <td>Robert Duvall</td>\n",
              "      <td>Diane Keaton</td>\n",
              "      <td>Robert De Niro</td>\n",
              "      <td>italy italianamerican cuba melancholy praise r...</td>\n",
              "    </tr>\n",
              "  </tbody>\n",
              "</table>\n",
              "</div>"
            ],
            "text/plain": [
              "                            Title  ...                                           Keywords\n",
              "304      The Shawshank Redemption  ...  prison corruption policebrutality prisoncell d...\n",
              "777                 The Godfather  ...  italy lossoflovedone loveatfirstsight italiana...\n",
              "9779  Dilwale Dulhania Le Jayenge  ...                                                NaN\n",
              "502               Schindlers List  ...  basedonnovelorbook factory concentrationcamp h...\n",
              "1092       The Godfather: Part II  ...  italy italianamerican cuba melancholy praise r...\n",
              "\n",
              "[5 rows x 8 columns]"
            ]
          },
          "metadata": {
            "tags": []
          },
          "execution_count": 68
        }
      ]
    },
    {
      "cell_type": "code",
      "metadata": {
        "id": "HTK6o3otXiUJ",
        "colab_type": "code",
        "colab": {
          "base_uri": "https://localhost:8080/",
          "height": 629
        },
        "outputId": "fb61ccd7-befd-4e93-c316-a9481444b324"
      },
      "source": [
        "#converting the names and keyword instances into lowercase and strip all the spaces between them\n",
        "#conbas_df['Title'] = conbas_df['Title'].str.replace(' ','').str.lower().str.replace('-','')\n",
        "conbas_df['Genres'] = conbas_df['Genres'].str.replace(' ','').str.lower().str.replace('-','')\n",
        "conbas_df['Director'] = conbas_df['Director'].str.replace(' ','').str.lower().str.replace('-','')\n",
        "conbas_df['actor1'] = conbas_df['actor1'].str.replace(' ','').str.lower().str.replace('-','')\n",
        "conbas_df['actor2'] = conbas_df['actor2'].str.replace(' ','').str.lower().str.replace('-','')\n",
        "conbas_df['actor3'] = conbas_df['actor3'].str.replace(' ','').str.lower().str.replace('-','')\n",
        "conbas_df['actor4'] = conbas_df['actor4'].str.replace(' ','').str.lower().str.replace('-','')"
      ],
      "execution_count": 69,
      "outputs": [
        {
          "output_type": "stream",
          "text": [
            "/usr/local/lib/python3.6/dist-packages/ipykernel_launcher.py:3: SettingWithCopyWarning: \n",
            "A value is trying to be set on a copy of a slice from a DataFrame.\n",
            "Try using .loc[row_indexer,col_indexer] = value instead\n",
            "\n",
            "See the caveats in the documentation: https://pandas.pydata.org/pandas-docs/stable/user_guide/indexing.html#returning-a-view-versus-a-copy\n",
            "  This is separate from the ipykernel package so we can avoid doing imports until\n",
            "/usr/local/lib/python3.6/dist-packages/ipykernel_launcher.py:4: SettingWithCopyWarning: \n",
            "A value is trying to be set on a copy of a slice from a DataFrame.\n",
            "Try using .loc[row_indexer,col_indexer] = value instead\n",
            "\n",
            "See the caveats in the documentation: https://pandas.pydata.org/pandas-docs/stable/user_guide/indexing.html#returning-a-view-versus-a-copy\n",
            "  after removing the cwd from sys.path.\n",
            "/usr/local/lib/python3.6/dist-packages/ipykernel_launcher.py:5: SettingWithCopyWarning: \n",
            "A value is trying to be set on a copy of a slice from a DataFrame.\n",
            "Try using .loc[row_indexer,col_indexer] = value instead\n",
            "\n",
            "See the caveats in the documentation: https://pandas.pydata.org/pandas-docs/stable/user_guide/indexing.html#returning-a-view-versus-a-copy\n",
            "  \"\"\"\n",
            "/usr/local/lib/python3.6/dist-packages/ipykernel_launcher.py:6: SettingWithCopyWarning: \n",
            "A value is trying to be set on a copy of a slice from a DataFrame.\n",
            "Try using .loc[row_indexer,col_indexer] = value instead\n",
            "\n",
            "See the caveats in the documentation: https://pandas.pydata.org/pandas-docs/stable/user_guide/indexing.html#returning-a-view-versus-a-copy\n",
            "  \n",
            "/usr/local/lib/python3.6/dist-packages/ipykernel_launcher.py:7: SettingWithCopyWarning: \n",
            "A value is trying to be set on a copy of a slice from a DataFrame.\n",
            "Try using .loc[row_indexer,col_indexer] = value instead\n",
            "\n",
            "See the caveats in the documentation: https://pandas.pydata.org/pandas-docs/stable/user_guide/indexing.html#returning-a-view-versus-a-copy\n",
            "  import sys\n",
            "/usr/local/lib/python3.6/dist-packages/ipykernel_launcher.py:8: SettingWithCopyWarning: \n",
            "A value is trying to be set on a copy of a slice from a DataFrame.\n",
            "Try using .loc[row_indexer,col_indexer] = value instead\n",
            "\n",
            "See the caveats in the documentation: https://pandas.pydata.org/pandas-docs/stable/user_guide/indexing.html#returning-a-view-versus-a-copy\n",
            "  \n"
          ],
          "name": "stderr"
        }
      ]
    },
    {
      "cell_type": "code",
      "metadata": {
        "id": "ghqGipCx87Fr",
        "colab_type": "code",
        "colab": {
          "base_uri": "https://localhost:8080/",
          "height": 119
        },
        "outputId": "d4c1bce0-d5a7-4aac-a14a-9689844b1b88"
      },
      "source": [
        "conbas_df['Keywords'] = conbas_df['Keywords'].replace(np.nan, 'Not Available')"
      ],
      "execution_count": 70,
      "outputs": [
        {
          "output_type": "stream",
          "text": [
            "/usr/local/lib/python3.6/dist-packages/ipykernel_launcher.py:1: SettingWithCopyWarning: \n",
            "A value is trying to be set on a copy of a slice from a DataFrame.\n",
            "Try using .loc[row_indexer,col_indexer] = value instead\n",
            "\n",
            "See the caveats in the documentation: https://pandas.pydata.org/pandas-docs/stable/user_guide/indexing.html#returning-a-view-versus-a-copy\n",
            "  \"\"\"Entry point for launching an IPython kernel.\n"
          ],
          "name": "stderr"
        }
      ]
    },
    {
      "cell_type": "code",
      "metadata": {
        "id": "Z55jsNZbvZfk",
        "colab_type": "code",
        "colab": {
          "base_uri": "https://localhost:8080/",
          "height": 119
        },
        "outputId": "efefb98d-6122-4a1a-dc96-c55cb79c6c0b"
      },
      "source": [
        "# Making a soup\n",
        "conbas_df['soup'] = conbas_df['Keywords'] + ' ' + conbas_df['Genres'] + ' ' + conbas_df['Director'] + ' ' + conbas_df['actor1'] + ' ' + conbas_df['actor2'] + ' ' + conbas_df['actor3'] + ' ' + conbas_df['actor4']"
      ],
      "execution_count": 71,
      "outputs": [
        {
          "output_type": "stream",
          "text": [
            "/usr/local/lib/python3.6/dist-packages/ipykernel_launcher.py:2: SettingWithCopyWarning: \n",
            "A value is trying to be set on a copy of a slice from a DataFrame.\n",
            "Try using .loc[row_indexer,col_indexer] = value instead\n",
            "\n",
            "See the caveats in the documentation: https://pandas.pydata.org/pandas-docs/stable/user_guide/indexing.html#returning-a-view-versus-a-copy\n",
            "  \n"
          ],
          "name": "stderr"
        }
      ]
    },
    {
      "cell_type": "code",
      "metadata": {
        "id": "rMiG7zphyz3i",
        "colab_type": "code",
        "colab": {
          "base_uri": "https://localhost:8080/",
          "height": 374
        },
        "outputId": "9838867b-4a65-42a5-9d93-a3c851aa94f9"
      },
      "source": [
        "conbas_df.head()"
      ],
      "execution_count": 72,
      "outputs": [
        {
          "output_type": "execute_result",
          "data": {
            "text/html": [
              "<div>\n",
              "<style scoped>\n",
              "    .dataframe tbody tr th:only-of-type {\n",
              "        vertical-align: middle;\n",
              "    }\n",
              "\n",
              "    .dataframe tbody tr th {\n",
              "        vertical-align: top;\n",
              "    }\n",
              "\n",
              "    .dataframe thead th {\n",
              "        text-align: right;\n",
              "    }\n",
              "</style>\n",
              "<table border=\"1\" class=\"dataframe\">\n",
              "  <thead>\n",
              "    <tr style=\"text-align: right;\">\n",
              "      <th></th>\n",
              "      <th>Title</th>\n",
              "      <th>Genres</th>\n",
              "      <th>Director</th>\n",
              "      <th>actor1</th>\n",
              "      <th>actor2</th>\n",
              "      <th>actor3</th>\n",
              "      <th>actor4</th>\n",
              "      <th>Keywords</th>\n",
              "      <th>soup</th>\n",
              "    </tr>\n",
              "  </thead>\n",
              "  <tbody>\n",
              "    <tr>\n",
              "      <th>304</th>\n",
              "      <td>The Shawshank Redemption</td>\n",
              "      <td>dramacrime</td>\n",
              "      <td>frankdarabont</td>\n",
              "      <td>timrobbins</td>\n",
              "      <td>morganfreeman</td>\n",
              "      <td>bobgunton</td>\n",
              "      <td>clancybrown</td>\n",
              "      <td>prison corruption policebrutality prisoncell d...</td>\n",
              "      <td>prison corruption policebrutality prisoncell d...</td>\n",
              "    </tr>\n",
              "    <tr>\n",
              "      <th>777</th>\n",
              "      <td>The Godfather</td>\n",
              "      <td>dramacrime</td>\n",
              "      <td>francisfordcoppola</td>\n",
              "      <td>marlonbrando</td>\n",
              "      <td>alpacino</td>\n",
              "      <td>jamescaan</td>\n",
              "      <td>richards.castellano</td>\n",
              "      <td>italy lossoflovedone loveatfirstsight italiana...</td>\n",
              "      <td>italy lossoflovedone loveatfirstsight italiana...</td>\n",
              "    </tr>\n",
              "    <tr>\n",
              "      <th>9779</th>\n",
              "      <td>Dilwale Dulhania Le Jayenge</td>\n",
              "      <td>comedydramaromance</td>\n",
              "      <td>adityachopra</td>\n",
              "      <td>shahrukhkhan</td>\n",
              "      <td>kajol</td>\n",
              "      <td>amrishpuri</td>\n",
              "      <td>anupamkher</td>\n",
              "      <td>Not Available</td>\n",
              "      <td>Not Available comedydramaromance adityachopra ...</td>\n",
              "    </tr>\n",
              "    <tr>\n",
              "      <th>502</th>\n",
              "      <td>Schindlers List</td>\n",
              "      <td>dramahistorywar</td>\n",
              "      <td>stevenspielberg</td>\n",
              "      <td>liamneeson</td>\n",
              "      <td>benkingsley</td>\n",
              "      <td>ralphfiennes</td>\n",
              "      <td>carolinegoodall</td>\n",
              "      <td>basedonnovelorbook factory concentrationcamp h...</td>\n",
              "      <td>basedonnovelorbook factory concentrationcamp h...</td>\n",
              "    </tr>\n",
              "    <tr>\n",
              "      <th>1092</th>\n",
              "      <td>The Godfather: Part II</td>\n",
              "      <td>dramacrime</td>\n",
              "      <td>francisfordcoppola</td>\n",
              "      <td>alpacino</td>\n",
              "      <td>robertduvall</td>\n",
              "      <td>dianekeaton</td>\n",
              "      <td>robertdeniro</td>\n",
              "      <td>italy italianamerican cuba melancholy praise r...</td>\n",
              "      <td>italy italianamerican cuba melancholy praise r...</td>\n",
              "    </tr>\n",
              "  </tbody>\n",
              "</table>\n",
              "</div>"
            ],
            "text/plain": [
              "                            Title  ...                                               soup\n",
              "304      The Shawshank Redemption  ...  prison corruption policebrutality prisoncell d...\n",
              "777                 The Godfather  ...  italy lossoflovedone loveatfirstsight italiana...\n",
              "9779  Dilwale Dulhania Le Jayenge  ...  Not Available comedydramaromance adityachopra ...\n",
              "502               Schindlers List  ...  basedonnovelorbook factory concentrationcamp h...\n",
              "1092       The Godfather: Part II  ...  italy italianamerican cuba melancholy praise r...\n",
              "\n",
              "[5 rows x 9 columns]"
            ]
          },
          "metadata": {
            "tags": []
          },
          "execution_count": 72
        }
      ]
    },
    {
      "cell_type": "code",
      "metadata": {
        "id": "I7CEgqEGQdo5",
        "colab_type": "code",
        "colab": {
          "base_uri": "https://localhost:8080/",
          "height": 68
        },
        "outputId": "38060cfa-c817-4270-8bd7-6f4486d38fd4"
      },
      "source": [
        "conbas_df.columns"
      ],
      "execution_count": 73,
      "outputs": [
        {
          "output_type": "execute_result",
          "data": {
            "text/plain": [
              "Index(['Title', 'Genres', 'Director', 'actor1', 'actor2', 'actor3', 'actor4',\n",
              "       'Keywords', 'soup'],\n",
              "      dtype='object')"
            ]
          },
          "metadata": {
            "tags": []
          },
          "execution_count": 73
        }
      ]
    },
    {
      "cell_type": "code",
      "metadata": {
        "id": "cPI39pFQMBnG",
        "colab_type": "code",
        "colab": {}
      },
      "source": [
        "conbas_df = conbas_df.drop(columns=['Genres', 'Director', 'actor1', 'actor2', 'actor3', 'actor4', 'Keywords'])"
      ],
      "execution_count": 74,
      "outputs": []
    },
    {
      "cell_type": "code",
      "metadata": {
        "id": "Ps77aOABSWJk",
        "colab_type": "code",
        "colab": {
          "base_uri": "https://localhost:8080/",
          "height": 204
        },
        "outputId": "cb470103-1353-4b90-fd86-dfe8b4dfbe00"
      },
      "source": [
        "conbas_df.head()"
      ],
      "execution_count": 75,
      "outputs": [
        {
          "output_type": "execute_result",
          "data": {
            "text/html": [
              "<div>\n",
              "<style scoped>\n",
              "    .dataframe tbody tr th:only-of-type {\n",
              "        vertical-align: middle;\n",
              "    }\n",
              "\n",
              "    .dataframe tbody tr th {\n",
              "        vertical-align: top;\n",
              "    }\n",
              "\n",
              "    .dataframe thead th {\n",
              "        text-align: right;\n",
              "    }\n",
              "</style>\n",
              "<table border=\"1\" class=\"dataframe\">\n",
              "  <thead>\n",
              "    <tr style=\"text-align: right;\">\n",
              "      <th></th>\n",
              "      <th>Title</th>\n",
              "      <th>soup</th>\n",
              "    </tr>\n",
              "  </thead>\n",
              "  <tbody>\n",
              "    <tr>\n",
              "      <th>304</th>\n",
              "      <td>The Shawshank Redemption</td>\n",
              "      <td>prison corruption policebrutality prisoncell d...</td>\n",
              "    </tr>\n",
              "    <tr>\n",
              "      <th>777</th>\n",
              "      <td>The Godfather</td>\n",
              "      <td>italy lossoflovedone loveatfirstsight italiana...</td>\n",
              "    </tr>\n",
              "    <tr>\n",
              "      <th>9779</th>\n",
              "      <td>Dilwale Dulhania Le Jayenge</td>\n",
              "      <td>Not Available comedydramaromance adityachopra ...</td>\n",
              "    </tr>\n",
              "    <tr>\n",
              "      <th>502</th>\n",
              "      <td>Schindlers List</td>\n",
              "      <td>basedonnovelorbook factory concentrationcamp h...</td>\n",
              "    </tr>\n",
              "    <tr>\n",
              "      <th>1092</th>\n",
              "      <td>The Godfather: Part II</td>\n",
              "      <td>italy italianamerican cuba melancholy praise r...</td>\n",
              "    </tr>\n",
              "  </tbody>\n",
              "</table>\n",
              "</div>"
            ],
            "text/plain": [
              "                            Title                                               soup\n",
              "304      The Shawshank Redemption  prison corruption policebrutality prisoncell d...\n",
              "777                 The Godfather  italy lossoflovedone loveatfirstsight italiana...\n",
              "9779  Dilwale Dulhania Le Jayenge  Not Available comedydramaromance adityachopra ...\n",
              "502               Schindlers List  basedonnovelorbook factory concentrationcamp h...\n",
              "1092       The Godfather: Part II  italy italianamerican cuba melancholy praise r..."
            ]
          },
          "metadata": {
            "tags": []
          },
          "execution_count": 75
        }
      ]
    },
    {
      "cell_type": "code",
      "metadata": {
        "id": "La4zl0HsTWj7",
        "colab_type": "code",
        "colab": {
          "base_uri": "https://localhost:8080/",
          "height": 34
        },
        "outputId": "db0c834c-933b-48f5-c234-298af51eb175"
      },
      "source": [
        "conbas_df.shape"
      ],
      "execution_count": 76,
      "outputs": [
        {
          "output_type": "execute_result",
          "data": {
            "text/plain": [
              "(11869, 2)"
            ]
          },
          "metadata": {
            "tags": []
          },
          "execution_count": 76
        }
      ]
    },
    {
      "cell_type": "code",
      "metadata": {
        "id": "ByKFczgP6jlp",
        "colab_type": "code",
        "colab": {}
      },
      "source": [
        "q = pd.merge(quali,conbas_df, left_on=['Title'], right_on=['Title'], how='left')"
      ],
      "execution_count": 77,
      "outputs": []
    },
    {
      "cell_type": "code",
      "metadata": {
        "id": "ivDY4tqiZ-Fj",
        "colab_type": "code",
        "colab": {}
      },
      "source": [
        "q = q.drop_duplicates(subset='tmdbId')"
      ],
      "execution_count": 78,
      "outputs": []
    },
    {
      "cell_type": "code",
      "metadata": {
        "id": "cxPHnGxFQRl5",
        "colab_type": "code",
        "colab": {
          "base_uri": "https://localhost:8080/",
          "height": 34
        },
        "outputId": "8130f1ad-7095-4915-811f-5b481e31b30b"
      },
      "source": [
        "q.shape"
      ],
      "execution_count": 79,
      "outputs": [
        {
          "output_type": "execute_result",
          "data": {
            "text/plain": [
              "(11858, 16)"
            ]
          },
          "metadata": {
            "tags": []
          },
          "execution_count": 79
        }
      ]
    },
    {
      "cell_type": "code",
      "metadata": {
        "id": "k9fz4R-38vdg",
        "colab_type": "code",
        "colab": {
          "base_uri": "https://localhost:8080/",
          "height": 233
        },
        "outputId": "dc7ee102-3b7e-4a84-d914-2bcf7275c619"
      },
      "source": [
        "q[q['Title'].str.contains('Scarface')]"
      ],
      "execution_count": 83,
      "outputs": [
        {
          "output_type": "execute_result",
          "data": {
            "text/html": [
              "<div>\n",
              "<style scoped>\n",
              "    .dataframe tbody tr th:only-of-type {\n",
              "        vertical-align: middle;\n",
              "    }\n",
              "\n",
              "    .dataframe tbody tr th {\n",
              "        vertical-align: top;\n",
              "    }\n",
              "\n",
              "    .dataframe thead th {\n",
              "        text-align: right;\n",
              "    }\n",
              "</style>\n",
              "<table border=\"1\" class=\"dataframe\">\n",
              "  <thead>\n",
              "    <tr style=\"text-align: right;\">\n",
              "      <th></th>\n",
              "      <th>tmdbId</th>\n",
              "      <th>Title</th>\n",
              "      <th>Year</th>\n",
              "      <th>Genres</th>\n",
              "      <th>Language</th>\n",
              "      <th>Runtime</th>\n",
              "      <th>Vote_count</th>\n",
              "      <th>Vote_avg</th>\n",
              "      <th>Director</th>\n",
              "      <th>Keywords</th>\n",
              "      <th>actor1</th>\n",
              "      <th>actor2</th>\n",
              "      <th>actor3</th>\n",
              "      <th>actor4</th>\n",
              "      <th>Score</th>\n",
              "      <th>soup</th>\n",
              "    </tr>\n",
              "  </thead>\n",
              "  <tbody>\n",
              "    <tr>\n",
              "      <th>106</th>\n",
              "      <td>111</td>\n",
              "      <td>Scarface</td>\n",
              "      <td>1983</td>\n",
              "      <td>Action Crime Drama Thriller</td>\n",
              "      <td>English</td>\n",
              "      <td>170</td>\n",
              "      <td>7135</td>\n",
              "      <td>8.1</td>\n",
              "      <td>Brian De Palma</td>\n",
              "      <td>siblingrelationship miami florida corruption l...</td>\n",
              "      <td>Al Pacino</td>\n",
              "      <td>Steven Bauer</td>\n",
              "      <td>Michelle Pfeiffer</td>\n",
              "      <td>Mary Elizabeth Mastrantonio</td>\n",
              "      <td>8.077954</td>\n",
              "      <td>siblingrelationship miami florida corruption l...</td>\n",
              "    </tr>\n",
              "    <tr>\n",
              "      <th>1346</th>\n",
              "      <td>877</td>\n",
              "      <td>Scarface</td>\n",
              "      <td>1932</td>\n",
              "      <td>Action Crime Drama Thriller</td>\n",
              "      <td>English</td>\n",
              "      <td>93</td>\n",
              "      <td>270</td>\n",
              "      <td>7.6</td>\n",
              "      <td>Howard Hawks</td>\n",
              "      <td>siblingrelationship chicago usa alcohol basedo...</td>\n",
              "      <td>Paul Muni</td>\n",
              "      <td>Ann Dvorak</td>\n",
              "      <td>Karen Morley</td>\n",
              "      <td>Osgood Perkins</td>\n",
              "      <td>7.255129</td>\n",
              "      <td>siblingrelationship miami florida corruption l...</td>\n",
              "    </tr>\n",
              "  </tbody>\n",
              "</table>\n",
              "</div>"
            ],
            "text/plain": [
              "      tmdbId  ...                                               soup\n",
              "106      111  ...  siblingrelationship miami florida corruption l...\n",
              "1346     877  ...  siblingrelationship miami florida corruption l...\n",
              "\n",
              "[2 rows x 16 columns]"
            ]
          },
          "metadata": {
            "tags": []
          },
          "execution_count": 83
        }
      ]
    },
    {
      "cell_type": "code",
      "metadata": {
        "id": "ukOXz8yQ7u3c",
        "colab_type": "code",
        "colab": {
          "base_uri": "https://localhost:8080/",
          "height": 881
        },
        "outputId": "17b88c48-34eb-4ed3-b487-b2a93cd7ad44"
      },
      "source": [
        "q[q.duplicated(['Title'])]"
      ],
      "execution_count": 36,
      "outputs": [
        {
          "output_type": "execute_result",
          "data": {
            "text/html": [
              "<div>\n",
              "<style scoped>\n",
              "    .dataframe tbody tr th:only-of-type {\n",
              "        vertical-align: middle;\n",
              "    }\n",
              "\n",
              "    .dataframe tbody tr th {\n",
              "        vertical-align: top;\n",
              "    }\n",
              "\n",
              "    .dataframe thead th {\n",
              "        text-align: right;\n",
              "    }\n",
              "</style>\n",
              "<table border=\"1\" class=\"dataframe\">\n",
              "  <thead>\n",
              "    <tr style=\"text-align: right;\">\n",
              "      <th></th>\n",
              "      <th>tmdbId</th>\n",
              "      <th>Title</th>\n",
              "      <th>Year</th>\n",
              "      <th>Genres</th>\n",
              "      <th>Language</th>\n",
              "      <th>Runtime</th>\n",
              "      <th>Vote_count</th>\n",
              "      <th>Vote_avg</th>\n",
              "      <th>Director</th>\n",
              "      <th>Keywords</th>\n",
              "      <th>actor1</th>\n",
              "      <th>actor2</th>\n",
              "      <th>actor3</th>\n",
              "      <th>actor4</th>\n",
              "      <th>Score</th>\n",
              "      <th>soup</th>\n",
              "    </tr>\n",
              "  </thead>\n",
              "  <tbody>\n",
              "    <tr>\n",
              "      <th>895</th>\n",
              "      <td>433498</td>\n",
              "      <td>Papillon</td>\n",
              "      <td>2018</td>\n",
              "      <td>Drama History Crime</td>\n",
              "      <td>English</td>\n",
              "      <td>134</td>\n",
              "      <td>986</td>\n",
              "      <td>7.5</td>\n",
              "      <td>Michael Noer</td>\n",
              "      <td>basedonnovelorbook biography remake solitaryco...</td>\n",
              "      <td>Charlie Hunnam</td>\n",
              "      <td>Rami Malek</td>\n",
              "      <td>Christopher Fairbank</td>\n",
              "      <td>Eve Hewson</td>\n",
              "      <td>7.394535</td>\n",
              "      <td>prison prisonescape jungle solitaryconfinement...</td>\n",
              "    </tr>\n",
              "    <tr>\n",
              "      <th>1139</th>\n",
              "      <td>648</td>\n",
              "      <td>Beauty and the Beast</td>\n",
              "      <td>1946</td>\n",
              "      <td>Drama Fantasy Romance</td>\n",
              "      <td>French</td>\n",
              "      <td>96</td>\n",
              "      <td>335</td>\n",
              "      <td>7.6</td>\n",
              "      <td>Jean Cocteau</td>\n",
              "      <td>underdog monster beauty rose daughter</td>\n",
              "      <td>Jean Marais</td>\n",
              "      <td>Josette Day</td>\n",
              "      <td>Marcel André</td>\n",
              "      <td>Mila Parély</td>\n",
              "      <td>7.309406</td>\n",
              "      <td>prince book castle rose musical princess beast...</td>\n",
              "    </tr>\n",
              "    <tr>\n",
              "      <th>1253</th>\n",
              "      <td>65754</td>\n",
              "      <td>The Girl with the Dragon Tattoo</td>\n",
              "      <td>2011</td>\n",
              "      <td>Thriller Crime Mystery Drama</td>\n",
              "      <td>English</td>\n",
              "      <td>158</td>\n",
              "      <td>4702</td>\n",
              "      <td>7.3</td>\n",
              "      <td>David Fincher</td>\n",
              "      <td>rape journalist basedonnovelorbook journalism ...</td>\n",
              "      <td>Daniel Craig</td>\n",
              "      <td>Rooney Mara</td>\n",
              "      <td>Christopher Plummer</td>\n",
              "      <td>Stellan Skarsgård</td>\n",
              "      <td>7.279788</td>\n",
              "      <td>rape journalist basedonnovelorbook bondage isl...</td>\n",
              "    </tr>\n",
              "    <tr>\n",
              "      <th>1346</th>\n",
              "      <td>877</td>\n",
              "      <td>Scarface</td>\n",
              "      <td>1932</td>\n",
              "      <td>Action Crime Drama Thriller</td>\n",
              "      <td>English</td>\n",
              "      <td>93</td>\n",
              "      <td>270</td>\n",
              "      <td>7.6</td>\n",
              "      <td>Howard Hawks</td>\n",
              "      <td>siblingrelationship chicago usa alcohol basedo...</td>\n",
              "      <td>Paul Muni</td>\n",
              "      <td>Ann Dvorak</td>\n",
              "      <td>Karen Morley</td>\n",
              "      <td>Osgood Perkins</td>\n",
              "      <td>7.255129</td>\n",
              "      <td>siblingrelationship miami florida corruption l...</td>\n",
              "    </tr>\n",
              "    <tr>\n",
              "      <th>1514</th>\n",
              "      <td>17529</td>\n",
              "      <td>True Grit</td>\n",
              "      <td>1969</td>\n",
              "      <td>Western Drama Adventure</td>\n",
              "      <td>English</td>\n",
              "      <td>128</td>\n",
              "      <td>435</td>\n",
              "      <td>7.4</td>\n",
              "      <td>Henry Hathaway</td>\n",
              "      <td>bountyhunter manhunt</td>\n",
              "      <td>John Wayne</td>\n",
              "      <td>Glen Campbell</td>\n",
              "      <td>Kim Darby</td>\n",
              "      <td>Jeremy Slate</td>\n",
              "      <td>7.196462</td>\n",
              "      <td>lossoflovedone basedonnovelorbook fathermurder...</td>\n",
              "    </tr>\n",
              "    <tr>\n",
              "      <th>...</th>\n",
              "      <td>...</td>\n",
              "      <td>...</td>\n",
              "      <td>...</td>\n",
              "      <td>...</td>\n",
              "      <td>...</td>\n",
              "      <td>...</td>\n",
              "      <td>...</td>\n",
              "      <td>...</td>\n",
              "      <td>...</td>\n",
              "      <td>...</td>\n",
              "      <td>...</td>\n",
              "      <td>...</td>\n",
              "      <td>...</td>\n",
              "      <td>...</td>\n",
              "      <td>...</td>\n",
              "      <td>...</td>\n",
              "    </tr>\n",
              "    <tr>\n",
              "      <th>12711</th>\n",
              "      <td>11535</td>\n",
              "      <td>Rollerball</td>\n",
              "      <td>2002</td>\n",
              "      <td>Action Science Fiction Thriller</td>\n",
              "      <td>English</td>\n",
              "      <td>98</td>\n",
              "      <td>283</td>\n",
              "      <td>4.0</td>\n",
              "      <td>John McTiernan</td>\n",
              "      <td>manager arena dystopia wrestling sports roller...</td>\n",
              "      <td>Chris Klein</td>\n",
              "      <td>LL Cool J</td>\n",
              "      <td>Rebecca Romijn</td>\n",
              "      <td>Naveen Andrews</td>\n",
              "      <td>4.445387</td>\n",
              "      <td>sportsteam future dystopia games rollerskating...</td>\n",
              "    </tr>\n",
              "    <tr>\n",
              "      <th>12714</th>\n",
              "      <td>166424</td>\n",
              "      <td>Fantastic Four</td>\n",
              "      <td>2015</td>\n",
              "      <td>Action Adventure Science Fiction</td>\n",
              "      <td>English</td>\n",
              "      <td>100</td>\n",
              "      <td>4381</td>\n",
              "      <td>4.4</td>\n",
              "      <td>Simon Kinberg</td>\n",
              "      <td>teleportation transformation telekinesis porta...</td>\n",
              "      <td>Miles Teller</td>\n",
              "      <td>Kate Mara</td>\n",
              "      <td>Michael B. Jordan</td>\n",
              "      <td>Jamie Bell</td>\n",
              "      <td>4.429061</td>\n",
              "      <td>flying siblingrelationship fire marriagepropos...</td>\n",
              "    </tr>\n",
              "    <tr>\n",
              "      <th>12721</th>\n",
              "      <td>791</td>\n",
              "      <td>The Fog</td>\n",
              "      <td>2005</td>\n",
              "      <td>Horror Thriller</td>\n",
              "      <td>English</td>\n",
              "      <td>100</td>\n",
              "      <td>419</td>\n",
              "      <td>4.1</td>\n",
              "      <td>Rupert Wainwright</td>\n",
              "      <td>california prophecy fire sea beach parentchild...</td>\n",
              "      <td>Tom Welling</td>\n",
              "      <td>Maggie Grace</td>\n",
              "      <td>Selma Blair</td>\n",
              "      <td>DeRay Davis</td>\n",
              "      <td>4.407817</td>\n",
              "      <td>prophecy sea beach gold smalltown beheading sw...</td>\n",
              "    </tr>\n",
              "    <tr>\n",
              "      <th>12733</th>\n",
              "      <td>9708</td>\n",
              "      <td>The Wicker Man</td>\n",
              "      <td>2006</td>\n",
              "      <td>Mystery Thriller Horror Drama</td>\n",
              "      <td>English</td>\n",
              "      <td>102</td>\n",
              "      <td>834</td>\n",
              "      <td>4.2</td>\n",
              "      <td>Neil LaBute</td>\n",
              "      <td>california basedonnovelorbook island airplane ...</td>\n",
              "      <td>Nicolas Cage</td>\n",
              "      <td>Ellen Burstyn</td>\n",
              "      <td>Kate Beahan</td>\n",
              "      <td>Frances Conroy</td>\n",
              "      <td>4.359194</td>\n",
              "      <td>scotland basedonnovelorbook island virgin ritu...</td>\n",
              "    </tr>\n",
              "    <tr>\n",
              "      <th>12750</th>\n",
              "      <td>351460</td>\n",
              "      <td>Death Note</td>\n",
              "      <td>2017</td>\n",
              "      <td>Fantasy Horror Mystery Thriller</td>\n",
              "      <td>English</td>\n",
              "      <td>101</td>\n",
              "      <td>2917</td>\n",
              "      <td>4.2</td>\n",
              "      <td>Adam Wingard</td>\n",
              "      <td>notebook basedonmanga death anime basedonanime</td>\n",
              "      <td>Nat Wolff</td>\n",
              "      <td>Lakeith Stanfield</td>\n",
              "      <td>Willem Dafoe</td>\n",
              "      <td>Margaret Qualley</td>\n",
              "      <td>4.248476</td>\n",
              "      <td>basedonmanga fantasymysterythriller shusukekan...</td>\n",
              "    </tr>\n",
              "  </tbody>\n",
              "</table>\n",
              "<p>408 rows × 16 columns</p>\n",
              "</div>"
            ],
            "text/plain": [
              "       tmdbId  ...                                               soup\n",
              "895    433498  ...  prison prisonescape jungle solitaryconfinement...\n",
              "1139      648  ...  prince book castle rose musical princess beast...\n",
              "1253    65754  ...  rape journalist basedonnovelorbook bondage isl...\n",
              "1346      877  ...  siblingrelationship miami florida corruption l...\n",
              "1514    17529  ...  lossoflovedone basedonnovelorbook fathermurder...\n",
              "...       ...  ...                                                ...\n",
              "12711   11535  ...  sportsteam future dystopia games rollerskating...\n",
              "12714  166424  ...  flying siblingrelationship fire marriagepropos...\n",
              "12721     791  ...  prophecy sea beach gold smalltown beheading sw...\n",
              "12733    9708  ...  scotland basedonnovelorbook island virgin ritu...\n",
              "12750  351460  ...  basedonmanga fantasymysterythriller shusukekan...\n",
              "\n",
              "[408 rows x 16 columns]"
            ]
          },
          "metadata": {
            "tags": []
          },
          "execution_count": 36
        }
      ]
    },
    {
      "cell_type": "code",
      "metadata": {
        "id": "VQyNMoGsunmH",
        "colab_type": "code",
        "colab": {}
      },
      "source": [
        "q.to_csv('/content/Movies.csv')"
      ],
      "execution_count": 86,
      "outputs": []
    },
    {
      "cell_type": "code",
      "metadata": {
        "id": "F4JFNmG8zIM4",
        "colab_type": "code",
        "colab": {
          "base_uri": "https://localhost:8080/",
          "height": 119
        },
        "outputId": "13252d89-2919-4337-8a5d-d891b7138cd9"
      },
      "source": [
        "q['soup'].head()"
      ],
      "execution_count": 87,
      "outputs": [
        {
          "output_type": "execute_result",
          "data": {
            "text/plain": [
              "0    prison corruption policebrutality prisoncell d...\n",
              "1    italy lossoflovedone loveatfirstsight italiana...\n",
              "2    Not Available comedydramaromance adityachopra ...\n",
              "3    basedonnovelorbook factory concentrationcamp h...\n",
              "4    italy italianamerican cuba melancholy praise r...\n",
              "Name: soup, dtype: object"
            ]
          },
          "metadata": {
            "tags": []
          },
          "execution_count": 87
        }
      ]
    },
    {
      "cell_type": "code",
      "metadata": {
        "id": "3wH-biXizQga",
        "colab_type": "code",
        "colab": {}
      },
      "source": [
        "# Import CountVectorizer and create the count matrix\n",
        "from sklearn.feature_extraction.text import CountVectorizer\n",
        "\n",
        "count = CountVectorizer(stop_words='english')\n",
        "count_matrix = count.fit_transform(q['soup'])"
      ],
      "execution_count": 88,
      "outputs": []
    },
    {
      "cell_type": "code",
      "metadata": {
        "id": "QR1MrQH11mvw",
        "colab_type": "code",
        "colab": {
          "base_uri": "https://localhost:8080/",
          "height": 34
        },
        "outputId": "33c639e7-cf12-4ac5-dd86-eef62b9ea61d"
      },
      "source": [
        "count_matrix.shape"
      ],
      "execution_count": 89,
      "outputs": [
        {
          "output_type": "execute_result",
          "data": {
            "text/plain": [
              "(11858, 38425)"
            ]
          },
          "metadata": {
            "tags": []
          },
          "execution_count": 89
        }
      ]
    },
    {
      "cell_type": "code",
      "metadata": {
        "id": "8FCFEMZz4Phy",
        "colab_type": "code",
        "colab": {}
      },
      "source": [
        "# Compute the Cosine Similarity matrix based on the count_matrix\n",
        "from sklearn.metrics.pairwise import cosine_similarity\n",
        "\n",
        "cosine_sim = cosine_similarity(count_matrix, count_matrix)"
      ],
      "execution_count": 90,
      "outputs": []
    },
    {
      "cell_type": "code",
      "metadata": {
        "id": "VNWA7ctv4UF0",
        "colab_type": "code",
        "colab": {}
      },
      "source": [
        "# Reset index of your main DataFrame and construct reverse mapping as before\n",
        "q = q.reset_index()\n",
        "indices = pd.Series(q.index, index=q['Title'])"
      ],
      "execution_count": 91,
      "outputs": []
    },
    {
      "cell_type": "code",
      "metadata": {
        "id": "yJN88AwI1q_g",
        "colab_type": "code",
        "colab": {}
      },
      "source": [
        "# Function that takes in movie title as input and outputs most similar movies\n",
        "def get_recommendations(title, cosine_sim = cosine_sim):\n",
        "    idx = indices[title]  # Get the index of the movie that matches the title\n",
        "    sim_scores = list(enumerate(cosine_sim[idx]))   # Get the pairwsie similarity scores of all movies with that movie\n",
        "    #print(sim_scores)\n",
        "    sim_scores = sorted(sim_scores, key=lambda x: x[1], reverse=True)  # Sort the movies based on the similarity scores\n",
        "    #print(sim_scores)\n",
        "    sim_scores = sim_scores[1:11]  # Get the scores of the 15 most similar movies\n",
        "    #print(sim_scores)\n",
        "    movie_indices = [i[0] for i in sim_scores]  # Get the movie indices\n",
        "\n",
        "    movies = q.iloc[movie_indices][['Title', 'Year', 'Score','Language']]  # Getting the weighted ratings of the movies \n",
        "    # Return the top 15 most similar movies arranged by ratings\n",
        "    return movies.sort_values('Score', ascending = False)"
      ],
      "execution_count": 92,
      "outputs": []
    },
    {
      "cell_type": "code",
      "metadata": {
        "id": "7ddVbwI-4Bjc",
        "colab_type": "code",
        "colab": {
          "base_uri": "https://localhost:8080/",
          "height": 359
        },
        "outputId": "23f85c59-13ce-4b8f-acf1-175159c69790"
      },
      "source": [
        "get_recommendations('The Dark Knight Rises')"
      ],
      "execution_count": 93,
      "outputs": [
        {
          "output_type": "execute_result",
          "data": {
            "text/html": [
              "<div>\n",
              "<style scoped>\n",
              "    .dataframe tbody tr th:only-of-type {\n",
              "        vertical-align: middle;\n",
              "    }\n",
              "\n",
              "    .dataframe tbody tr th {\n",
              "        vertical-align: top;\n",
              "    }\n",
              "\n",
              "    .dataframe thead th {\n",
              "        text-align: right;\n",
              "    }\n",
              "</style>\n",
              "<table border=\"1\" class=\"dataframe\">\n",
              "  <thead>\n",
              "    <tr style=\"text-align: right;\">\n",
              "      <th></th>\n",
              "      <th>Title</th>\n",
              "      <th>Year</th>\n",
              "      <th>Score</th>\n",
              "      <th>Language</th>\n",
              "    </tr>\n",
              "  </thead>\n",
              "  <tbody>\n",
              "    <tr>\n",
              "      <th>12</th>\n",
              "      <td>The Dark Knight</td>\n",
              "      <td>2008</td>\n",
              "      <td>8.392010</td>\n",
              "      <td>English</td>\n",
              "    </tr>\n",
              "    <tr>\n",
              "      <th>362</th>\n",
              "      <td>Batman Begins</td>\n",
              "      <td>2005</td>\n",
              "      <td>7.691290</td>\n",
              "      <td>English</td>\n",
              "    </tr>\n",
              "    <tr>\n",
              "      <th>529</th>\n",
              "      <td>Batman: Under the Red Hood</td>\n",
              "      <td>2010</td>\n",
              "      <td>7.572694</td>\n",
              "      <td>English</td>\n",
              "    </tr>\n",
              "    <tr>\n",
              "      <th>1502</th>\n",
              "      <td>Batman: Assault on Arkham</td>\n",
              "      <td>2014</td>\n",
              "      <td>7.172202</td>\n",
              "      <td>English</td>\n",
              "    </tr>\n",
              "    <tr>\n",
              "      <th>1940</th>\n",
              "      <td>Batman: Year One</td>\n",
              "      <td>2011</td>\n",
              "      <td>7.051975</td>\n",
              "      <td>English</td>\n",
              "    </tr>\n",
              "    <tr>\n",
              "      <th>4119</th>\n",
              "      <td>Justice League: The New Frontier</td>\n",
              "      <td>2008</td>\n",
              "      <td>6.639512</td>\n",
              "      <td>English</td>\n",
              "    </tr>\n",
              "    <tr>\n",
              "      <th>5256</th>\n",
              "      <td>DC Showcase: Catwoman</td>\n",
              "      <td>2011</td>\n",
              "      <td>6.474491</td>\n",
              "      <td>English</td>\n",
              "    </tr>\n",
              "    <tr>\n",
              "      <th>5709</th>\n",
              "      <td>Kick-Ass 2</td>\n",
              "      <td>2013</td>\n",
              "      <td>6.394156</td>\n",
              "      <td>English</td>\n",
              "    </tr>\n",
              "    <tr>\n",
              "      <th>7783</th>\n",
              "      <td>Batman &amp; Harley Quinn</td>\n",
              "      <td>2017</td>\n",
              "      <td>6.093315</td>\n",
              "      <td>English</td>\n",
              "    </tr>\n",
              "    <tr>\n",
              "      <th>9607</th>\n",
              "      <td>Batman v Superman: Dawn of Justice</td>\n",
              "      <td>2016</td>\n",
              "      <td>5.801490</td>\n",
              "      <td>English</td>\n",
              "    </tr>\n",
              "  </tbody>\n",
              "</table>\n",
              "</div>"
            ],
            "text/plain": [
              "                                   Title  Year     Score Language\n",
              "12                       The Dark Knight  2008  8.392010  English\n",
              "362                        Batman Begins  2005  7.691290  English\n",
              "529           Batman: Under the Red Hood  2010  7.572694  English\n",
              "1502           Batman: Assault on Arkham  2014  7.172202  English\n",
              "1940                    Batman: Year One  2011  7.051975  English\n",
              "4119    Justice League: The New Frontier  2008  6.639512  English\n",
              "5256               DC Showcase: Catwoman  2011  6.474491  English\n",
              "5709                          Kick-Ass 2  2013  6.394156  English\n",
              "7783               Batman & Harley Quinn  2017  6.093315  English\n",
              "9607  Batman v Superman: Dawn of Justice  2016  5.801490  English"
            ]
          },
          "metadata": {
            "tags": []
          },
          "execution_count": 93
        }
      ]
    },
    {
      "cell_type": "code",
      "metadata": {
        "id": "HCBwxGQH4kmy",
        "colab_type": "code",
        "colab": {
          "base_uri": "https://localhost:8080/",
          "height": 359
        },
        "outputId": "c1a5a95f-83a2-4b51-c299-d6abfde9820a"
      },
      "source": [
        "get_recommendations('Up')"
      ],
      "execution_count": 94,
      "outputs": [
        {
          "output_type": "execute_result",
          "data": {
            "text/html": [
              "<div>\n",
              "<style scoped>\n",
              "    .dataframe tbody tr th:only-of-type {\n",
              "        vertical-align: middle;\n",
              "    }\n",
              "\n",
              "    .dataframe tbody tr th {\n",
              "        vertical-align: top;\n",
              "    }\n",
              "\n",
              "    .dataframe thead th {\n",
              "        text-align: right;\n",
              "    }\n",
              "</style>\n",
              "<table border=\"1\" class=\"dataframe\">\n",
              "  <thead>\n",
              "    <tr style=\"text-align: right;\">\n",
              "      <th></th>\n",
              "      <th>Title</th>\n",
              "      <th>Year</th>\n",
              "      <th>Score</th>\n",
              "      <th>Language</th>\n",
              "    </tr>\n",
              "  </thead>\n",
              "  <tbody>\n",
              "    <tr>\n",
              "      <th>186</th>\n",
              "      <td>Inside Out</td>\n",
              "      <td>2015</td>\n",
              "      <td>7.890577</td>\n",
              "      <td>English</td>\n",
              "    </tr>\n",
              "    <tr>\n",
              "      <th>1437</th>\n",
              "      <td>Remember</td>\n",
              "      <td>2015</td>\n",
              "      <td>7.187774</td>\n",
              "      <td>English</td>\n",
              "    </tr>\n",
              "    <tr>\n",
              "      <th>3745</th>\n",
              "      <td>Ice Age: Dawn of the Dinosaurs</td>\n",
              "      <td>2009</td>\n",
              "      <td>6.691337</td>\n",
              "      <td>English</td>\n",
              "    </tr>\n",
              "    <tr>\n",
              "      <th>4462</th>\n",
              "      <td>Rush Hour 2</td>\n",
              "      <td>2001</td>\n",
              "      <td>6.583549</td>\n",
              "      <td>English</td>\n",
              "    </tr>\n",
              "    <tr>\n",
              "      <th>4586</th>\n",
              "      <td>Dugs Special Mission</td>\n",
              "      <td>2009</td>\n",
              "      <td>6.567681</td>\n",
              "      <td>English</td>\n",
              "    </tr>\n",
              "    <tr>\n",
              "      <th>5238</th>\n",
              "      <td>Nicholas Nickleby</td>\n",
              "      <td>2002</td>\n",
              "      <td>6.476320</td>\n",
              "      <td>English</td>\n",
              "    </tr>\n",
              "    <tr>\n",
              "      <th>5341</th>\n",
              "      <td>Babies</td>\n",
              "      <td>2010</td>\n",
              "      <td>6.461088</td>\n",
              "      <td>French</td>\n",
              "    </tr>\n",
              "    <tr>\n",
              "      <th>5782</th>\n",
              "      <td>The Imaginarium of Doctor Parnassus</td>\n",
              "      <td>2009</td>\n",
              "      <td>6.386652</td>\n",
              "      <td>English</td>\n",
              "    </tr>\n",
              "    <tr>\n",
              "      <th>6645</th>\n",
              "      <td>The Last Station</td>\n",
              "      <td>2009</td>\n",
              "      <td>6.267924</td>\n",
              "      <td>English</td>\n",
              "    </tr>\n",
              "    <tr>\n",
              "      <th>7710</th>\n",
              "      <td>The International</td>\n",
              "      <td>2009</td>\n",
              "      <td>6.096341</td>\n",
              "      <td>English</td>\n",
              "    </tr>\n",
              "  </tbody>\n",
              "</table>\n",
              "</div>"
            ],
            "text/plain": [
              "                                    Title  Year     Score Language\n",
              "186                            Inside Out  2015  7.890577  English\n",
              "1437                             Remember  2015  7.187774  English\n",
              "3745       Ice Age: Dawn of the Dinosaurs  2009  6.691337  English\n",
              "4462                          Rush Hour 2  2001  6.583549  English\n",
              "4586                 Dugs Special Mission  2009  6.567681  English\n",
              "5238                    Nicholas Nickleby  2002  6.476320  English\n",
              "5341                               Babies  2010  6.461088   French\n",
              "5782  The Imaginarium of Doctor Parnassus  2009  6.386652  English\n",
              "6645                     The Last Station  2009  6.267924  English\n",
              "7710                    The International  2009  6.096341  English"
            ]
          },
          "metadata": {
            "tags": []
          },
          "execution_count": 94
        }
      ]
    },
    {
      "cell_type": "code",
      "metadata": {
        "id": "VW4GX3Wa51ck",
        "colab_type": "code",
        "colab": {
          "base_uri": "https://localhost:8080/",
          "height": 359
        },
        "outputId": "2ea4f11c-49f7-49e1-f53d-d19fe916cf0b"
      },
      "source": [
        "get_recommendations('Your Name')"
      ],
      "execution_count": 95,
      "outputs": [
        {
          "output_type": "execute_result",
          "data": {
            "text/html": [
              "<div>\n",
              "<style scoped>\n",
              "    .dataframe tbody tr th:only-of-type {\n",
              "        vertical-align: middle;\n",
              "    }\n",
              "\n",
              "    .dataframe tbody tr th {\n",
              "        vertical-align: top;\n",
              "    }\n",
              "\n",
              "    .dataframe thead th {\n",
              "        text-align: right;\n",
              "    }\n",
              "</style>\n",
              "<table border=\"1\" class=\"dataframe\">\n",
              "  <thead>\n",
              "    <tr style=\"text-align: right;\">\n",
              "      <th></th>\n",
              "      <th>Title</th>\n",
              "      <th>Year</th>\n",
              "      <th>Score</th>\n",
              "      <th>Language</th>\n",
              "    </tr>\n",
              "  </thead>\n",
              "  <tbody>\n",
              "    <tr>\n",
              "      <th>356</th>\n",
              "      <td>The Girl Who Leapt Through Time</td>\n",
              "      <td>2006</td>\n",
              "      <td>7.694298</td>\n",
              "      <td>Japanese</td>\n",
              "    </tr>\n",
              "    <tr>\n",
              "      <th>991</th>\n",
              "      <td>No Game No Life: Zero</td>\n",
              "      <td>2017</td>\n",
              "      <td>7.344127</td>\n",
              "      <td>Japanese</td>\n",
              "    </tr>\n",
              "    <tr>\n",
              "      <th>2134</th>\n",
              "      <td>Dragon Ball Z: The History of Trunks</td>\n",
              "      <td>1993</td>\n",
              "      <td>6.995220</td>\n",
              "      <td>Japanese</td>\n",
              "    </tr>\n",
              "    <tr>\n",
              "      <th>2494</th>\n",
              "      <td>Children Who Chase Lost Voices from Deep Below</td>\n",
              "      <td>2011</td>\n",
              "      <td>6.912465</td>\n",
              "      <td>Japanese</td>\n",
              "    </tr>\n",
              "    <tr>\n",
              "      <th>2726</th>\n",
              "      <td>Our Times</td>\n",
              "      <td>2015</td>\n",
              "      <td>6.872636</td>\n",
              "      <td>Chinese</td>\n",
              "    </tr>\n",
              "    <tr>\n",
              "      <th>3802</th>\n",
              "      <td>I Am a Hero</td>\n",
              "      <td>2016</td>\n",
              "      <td>6.685772</td>\n",
              "      <td>Japanese</td>\n",
              "    </tr>\n",
              "    <tr>\n",
              "      <th>5362</th>\n",
              "      <td>Its a Boy Girl Thing</td>\n",
              "      <td>2006</td>\n",
              "      <td>6.457231</td>\n",
              "      <td>English</td>\n",
              "    </tr>\n",
              "    <tr>\n",
              "      <th>5390</th>\n",
              "      <td>Dragon Ball: Episode of Bardock</td>\n",
              "      <td>2011</td>\n",
              "      <td>6.453094</td>\n",
              "      <td>Japanese</td>\n",
              "    </tr>\n",
              "    <tr>\n",
              "      <th>6071</th>\n",
              "      <td>Voices of a Distant Star</td>\n",
              "      <td>2003</td>\n",
              "      <td>6.350589</td>\n",
              "      <td>Japanese</td>\n",
              "    </tr>\n",
              "    <tr>\n",
              "      <th>9064</th>\n",
              "      <td>Vice Versa</td>\n",
              "      <td>1988</td>\n",
              "      <td>5.906727</td>\n",
              "      <td>English</td>\n",
              "    </tr>\n",
              "  </tbody>\n",
              "</table>\n",
              "</div>"
            ],
            "text/plain": [
              "                                               Title  Year     Score  Language\n",
              "356                  The Girl Who Leapt Through Time  2006  7.694298  Japanese\n",
              "991                            No Game No Life: Zero  2017  7.344127  Japanese\n",
              "2134            Dragon Ball Z: The History of Trunks  1993  6.995220  Japanese\n",
              "2494  Children Who Chase Lost Voices from Deep Below  2011  6.912465  Japanese\n",
              "2726                                       Our Times  2015  6.872636   Chinese\n",
              "3802                                     I Am a Hero  2016  6.685772  Japanese\n",
              "5362                            Its a Boy Girl Thing  2006  6.457231   English\n",
              "5390                 Dragon Ball: Episode of Bardock  2011  6.453094  Japanese\n",
              "6071                        Voices of a Distant Star  2003  6.350589  Japanese\n",
              "9064                                      Vice Versa  1988  5.906727   English"
            ]
          },
          "metadata": {
            "tags": []
          },
          "execution_count": 95
        }
      ]
    },
    {
      "cell_type": "code",
      "metadata": {
        "id": "YHhDGJUxHDDu",
        "colab_type": "code",
        "colab": {
          "base_uri": "https://localhost:8080/",
          "height": 359
        },
        "outputId": "ce36d17c-fdab-4a3b-e526-8c2c6987354a"
      },
      "source": [
        "get_recommendations('The Place Promised in Our Early Days')"
      ],
      "execution_count": 96,
      "outputs": [
        {
          "output_type": "execute_result",
          "data": {
            "text/html": [
              "<div>\n",
              "<style scoped>\n",
              "    .dataframe tbody tr th:only-of-type {\n",
              "        vertical-align: middle;\n",
              "    }\n",
              "\n",
              "    .dataframe tbody tr th {\n",
              "        vertical-align: top;\n",
              "    }\n",
              "\n",
              "    .dataframe thead th {\n",
              "        text-align: right;\n",
              "    }\n",
              "</style>\n",
              "<table border=\"1\" class=\"dataframe\">\n",
              "  <thead>\n",
              "    <tr style=\"text-align: right;\">\n",
              "      <th></th>\n",
              "      <th>Title</th>\n",
              "      <th>Year</th>\n",
              "      <th>Score</th>\n",
              "      <th>Language</th>\n",
              "    </tr>\n",
              "  </thead>\n",
              "  <tbody>\n",
              "    <tr>\n",
              "      <th>5</th>\n",
              "      <td>Your Name</td>\n",
              "      <td>2016</td>\n",
              "      <td>8.567453</td>\n",
              "      <td>Japanese</td>\n",
              "    </tr>\n",
              "    <tr>\n",
              "      <th>245</th>\n",
              "      <td>Nausicaä of the Valley of the Wind</td>\n",
              "      <td>1984</td>\n",
              "      <td>7.830279</td>\n",
              "      <td>Japanese</td>\n",
              "    </tr>\n",
              "    <tr>\n",
              "      <th>304</th>\n",
              "      <td>Whisper of the Heart</td>\n",
              "      <td>1995</td>\n",
              "      <td>7.761968</td>\n",
              "      <td>Japanese</td>\n",
              "    </tr>\n",
              "    <tr>\n",
              "      <th>338</th>\n",
              "      <td>The Wind Rises</td>\n",
              "      <td>2013</td>\n",
              "      <td>7.722194</td>\n",
              "      <td>Japanese</td>\n",
              "    </tr>\n",
              "    <tr>\n",
              "      <th>629</th>\n",
              "      <td>The Garden of Words</td>\n",
              "      <td>2013</td>\n",
              "      <td>7.502585</td>\n",
              "      <td>Japanese</td>\n",
              "    </tr>\n",
              "    <tr>\n",
              "      <th>774</th>\n",
              "      <td>Cowboy Bebop: The Movie</td>\n",
              "      <td>2001</td>\n",
              "      <td>7.432044</td>\n",
              "      <td>Japanese</td>\n",
              "    </tr>\n",
              "    <tr>\n",
              "      <th>1357</th>\n",
              "      <td>5 Centimeters per Second</td>\n",
              "      <td>2007</td>\n",
              "      <td>7.216495</td>\n",
              "      <td>Japanese</td>\n",
              "    </tr>\n",
              "    <tr>\n",
              "      <th>2494</th>\n",
              "      <td>Children Who Chase Lost Voices from Deep Below</td>\n",
              "      <td>2011</td>\n",
              "      <td>6.912465</td>\n",
              "      <td>Japanese</td>\n",
              "    </tr>\n",
              "    <tr>\n",
              "      <th>6071</th>\n",
              "      <td>Voices of a Distant Star</td>\n",
              "      <td>2003</td>\n",
              "      <td>6.350589</td>\n",
              "      <td>Japanese</td>\n",
              "    </tr>\n",
              "    <tr>\n",
              "      <th>7629</th>\n",
              "      <td>Get Smart</td>\n",
              "      <td>2008</td>\n",
              "      <td>6.098753</td>\n",
              "      <td>English</td>\n",
              "    </tr>\n",
              "  </tbody>\n",
              "</table>\n",
              "</div>"
            ],
            "text/plain": [
              "                                               Title  Year     Score  Language\n",
              "5                                          Your Name  2016  8.567453  Japanese\n",
              "245               Nausicaä of the Valley of the Wind  1984  7.830279  Japanese\n",
              "304                             Whisper of the Heart  1995  7.761968  Japanese\n",
              "338                                   The Wind Rises  2013  7.722194  Japanese\n",
              "629                              The Garden of Words  2013  7.502585  Japanese\n",
              "774                          Cowboy Bebop: The Movie  2001  7.432044  Japanese\n",
              "1357                        5 Centimeters per Second  2007  7.216495  Japanese\n",
              "2494  Children Who Chase Lost Voices from Deep Below  2011  6.912465  Japanese\n",
              "6071                        Voices of a Distant Star  2003  6.350589  Japanese\n",
              "7629                                       Get Smart  2008  6.098753   English"
            ]
          },
          "metadata": {
            "tags": []
          },
          "execution_count": 96
        }
      ]
    },
    {
      "cell_type": "code",
      "metadata": {
        "id": "XZEWRWL0BW4j",
        "colab_type": "code",
        "colab": {
          "base_uri": "https://localhost:8080/",
          "height": 359
        },
        "outputId": "34cc7f64-68df-447c-8785-4010d106678d"
      },
      "source": [
        "get_recommendations('Titanic')"
      ],
      "execution_count": 97,
      "outputs": [
        {
          "output_type": "execute_result",
          "data": {
            "text/html": [
              "<div>\n",
              "<style scoped>\n",
              "    .dataframe tbody tr th:only-of-type {\n",
              "        vertical-align: middle;\n",
              "    }\n",
              "\n",
              "    .dataframe tbody tr th {\n",
              "        vertical-align: top;\n",
              "    }\n",
              "\n",
              "    .dataframe thead th {\n",
              "        text-align: right;\n",
              "    }\n",
              "</style>\n",
              "<table border=\"1\" class=\"dataframe\">\n",
              "  <thead>\n",
              "    <tr style=\"text-align: right;\">\n",
              "      <th></th>\n",
              "      <th>Title</th>\n",
              "      <th>Year</th>\n",
              "      <th>Score</th>\n",
              "      <th>Language</th>\n",
              "    </tr>\n",
              "  </thead>\n",
              "  <tbody>\n",
              "    <tr>\n",
              "      <th>421</th>\n",
              "      <td>A Walk to Remember</td>\n",
              "      <td>2002</td>\n",
              "      <td>7.655200</td>\n",
              "      <td>English</td>\n",
              "    </tr>\n",
              "    <tr>\n",
              "      <th>927</th>\n",
              "      <td>A Short Film About Love</td>\n",
              "      <td>1988</td>\n",
              "      <td>7.367301</td>\n",
              "      <td>Polish</td>\n",
              "    </tr>\n",
              "    <tr>\n",
              "      <th>2443</th>\n",
              "      <td>A Night to Remember</td>\n",
              "      <td>1958</td>\n",
              "      <td>6.921572</td>\n",
              "      <td>English</td>\n",
              "    </tr>\n",
              "    <tr>\n",
              "      <th>3224</th>\n",
              "      <td>William Shakespeares Romeo + Juliet</td>\n",
              "      <td>1996</td>\n",
              "      <td>6.783237</td>\n",
              "      <td>English</td>\n",
              "    </tr>\n",
              "    <tr>\n",
              "      <th>3774</th>\n",
              "      <td>The Scent of Green Papaya</td>\n",
              "      <td>1993</td>\n",
              "      <td>6.688512</td>\n",
              "      <td>Vietnamese</td>\n",
              "    </tr>\n",
              "    <tr>\n",
              "      <th>4450</th>\n",
              "      <td>Love Story</td>\n",
              "      <td>1970</td>\n",
              "      <td>6.584954</td>\n",
              "      <td>English</td>\n",
              "    </tr>\n",
              "    <tr>\n",
              "      <th>4822</th>\n",
              "      <td>Ghosts of the Abyss</td>\n",
              "      <td>2003</td>\n",
              "      <td>6.533662</td>\n",
              "      <td>English</td>\n",
              "    </tr>\n",
              "    <tr>\n",
              "      <th>6686</th>\n",
              "      <td>Iris</td>\n",
              "      <td>2001</td>\n",
              "      <td>6.260237</td>\n",
              "      <td>English</td>\n",
              "    </tr>\n",
              "    <tr>\n",
              "      <th>6876</th>\n",
              "      <td>White Palace</td>\n",
              "      <td>1990</td>\n",
              "      <td>6.231751</td>\n",
              "      <td>English</td>\n",
              "    </tr>\n",
              "    <tr>\n",
              "      <th>7974</th>\n",
              "      <td>Down by Love</td>\n",
              "      <td>2016</td>\n",
              "      <td>6.085504</td>\n",
              "      <td>French</td>\n",
              "    </tr>\n",
              "  </tbody>\n",
              "</table>\n",
              "</div>"
            ],
            "text/plain": [
              "                                    Title  Year     Score    Language\n",
              "421                    A Walk to Remember  2002  7.655200     English\n",
              "927               A Short Film About Love  1988  7.367301      Polish\n",
              "2443                  A Night to Remember  1958  6.921572     English\n",
              "3224  William Shakespeares Romeo + Juliet  1996  6.783237     English\n",
              "3774            The Scent of Green Papaya  1993  6.688512  Vietnamese\n",
              "4450                           Love Story  1970  6.584954     English\n",
              "4822                  Ghosts of the Abyss  2003  6.533662     English\n",
              "6686                                 Iris  2001  6.260237     English\n",
              "6876                         White Palace  1990  6.231751     English\n",
              "7974                         Down by Love  2016  6.085504      French"
            ]
          },
          "metadata": {
            "tags": []
          },
          "execution_count": 97
        }
      ]
    },
    {
      "cell_type": "code",
      "metadata": {
        "id": "MBpJGnjwIqkq",
        "colab_type": "code",
        "colab": {}
      },
      "source": [
        ""
      ],
      "execution_count": null,
      "outputs": []
    }
  ]
}